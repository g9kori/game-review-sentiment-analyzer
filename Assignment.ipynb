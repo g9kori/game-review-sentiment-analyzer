{
 "cells": [
  {
   "cell_type": "code",
   "execution_count": 22,
   "id": "664b67a7-2305-4929-a125-e06980150043",
   "metadata": {},
   "outputs": [],
   "source": [
    "# Import necessary libraries\n",
    "import pandas as pd\n",
    "from transformers import T5Tokenizer, T5ForConditionalGeneration\n",
    "import seaborn as sns\n",
    "import matplotlib.pyplot as plt"
   ]
  },
  {
   "cell_type": "code",
   "execution_count": 26,
   "id": "e78c0483-c925-47bd-bc65-aa1c21906e87",
   "metadata": {},
   "outputs": [],
   "source": [
    "# Step 1: Load the dataset\n",
    "data = pd.read_csv('dataset.csv')"
   ]
  },
  {
   "cell_type": "code",
   "execution_count": 28,
   "id": "24194a96-1826-4bc4-8346-d99b3d698a78",
   "metadata": {},
   "outputs": [],
   "source": [
    "# Step 2: Keep relevant columns\n",
    "# We only need 'app_name', 'review_text', and 'review_score' columns\n",
    "data = data[['app_name', 'review_text', 'review_score']]"
   ]
  },
  {
   "cell_type": "code",
   "execution_count": 32,
   "id": "b4eb7ec2-9b15-4410-a9dc-e9034f729e24",
   "metadata": {
    "scrolled": true
   },
   "outputs": [],
   "source": [
    "# Step 3: Preprocess the text data (cleaning can vary based on your needs)\n",
    "def preprocess_text(text):\n",
    "    if isinstance(text, str):\n",
    "        text = text.lower()  # Convert to lowercase\n",
    "        text = text.strip()  # Remove leading/trailing spaces\n",
    "    else:\n",
    "        text = \"\"  # Handle non-string values (e.g., NaN) by setting to empty string\n",
    "    return text\n",
    "\n",
    "data['cleaned_review_text'] = data['review_text'].apply(preprocess_text)"
   ]
  },
  {
   "cell_type": "code",
   "execution_count": 34,
   "id": "bf8d10db-09f1-4182-bcdc-a912cf7f3c59",
   "metadata": {},
   "outputs": [],
   "source": [
    "# Step 4: Load the FlanT5 model for sentiment classification\n",
    "tokenizer = T5Tokenizer.from_pretrained('google/flan-t5-small')\n",
    "model = T5ForConditionalGeneration.from_pretrained('google/flan-t5-small')\n",
    "\n",
    "# Function to classify sentiment using the FlanT5 model\n",
    "def classify_sentiment(review):\n",
    "    # Prepare the input text for sentiment analysis\n",
    "    input_text = f\"Classify the sentiment of this review: {review}\"\n",
    "    \n",
    "    # Tokenize the input text\n",
    "    inputs = tokenizer(input_text, return_tensors=\"pt\", max_length=512, truncation=True)\n",
    "    \n",
    "    # Generate prediction\n",
    "    outputs = model.generate(inputs.input_ids)\n",
    "    \n",
    "    # Decode the predicted sentiment label\n",
    "    sentiment = tokenizer.decode(outputs[0], skip_special_tokens=True)\n",
    "    \n",
    "    return sentiment"
   ]
  },
  {
   "cell_type": "code",
   "execution_count": 36,
   "id": "a605c0ab-989c-4ad8-8652-1b465c090d03",
   "metadata": {},
   "outputs": [
    {
     "name": "stdin",
     "output_type": "stream",
     "text": [
      "Enter the name of the game:  Killing Floor\n"
     ]
    },
    {
     "name": "stderr",
     "output_type": "stream",
     "text": [
      "C:\\Users\\LENOVO\\anaconda3\\Lib\\site-packages\\transformers\\generation\\utils.py:1220: UserWarning: Using the model-agnostic default `max_length` (=20) to control the generation length. We recommend setting `max_new_tokens` to control the maximum length of the generation.\n",
      "  warnings.warn(\n",
      "C:\\Users\\LENOVO\\AppData\\Local\\Temp\\ipykernel_6392\\1758927019.py:11: SettingWithCopyWarning: \n",
      "A value is trying to be set on a copy of a slice from a DataFrame.\n",
      "Try using .loc[row_indexer,col_indexer] = value instead\n",
      "\n",
      "See the caveats in the documentation: https://pandas.pydata.org/pandas-docs/stable/user_guide/indexing.html#returning-a-view-versus-a-copy\n",
      "  filtered_data['sentiment'] = filtered_data['cleaned_review_text'].apply(classify_sentiment)\n",
      "C:\\Users\\LENOVO\\AppData\\Local\\Temp\\ipykernel_6392\\1758927019.py:23: FutureWarning: \n",
      "\n",
      "Passing `palette` without assigning `hue` is deprecated and will be removed in v0.14.0. Assign the `x` variable to `hue` and set `legend=False` for the same effect.\n",
      "\n",
      "  sns.barplot(x=sentiment_count.index, y=sentiment_count.values, palette='viridis')\n"
     ]
    },
    {
     "name": "stdout",
     "output_type": "stream",
     "text": [
      "Sentiment counts for 'Killing Floor':\n",
      " sentiment\n",
      "positive    173\n",
      "negative     22\n",
      "Name: count, dtype: int64\n"
     ]
    },
    {
     "data": {
      "image/png": "[encoded data removed]",
      "text/plain": [
       "<Figure size 800x600 with 1 Axes>"
      ]
     },
     "metadata": {},
     "output_type": "display_data"
    }
   ],
   "source": [
    "# Step 5: User input for game name\n",
    "game_name = input(\"Enter the name of the game: \")\n",
    "\n",
    "# Filter the data to get reviews for the input game name\n",
    "filtered_data = data[data['app_name'].str.contains(game_name, case=False, na=False)]\n",
    "\n",
    "if filtered_data.empty:\n",
    "    print(f\"No reviews found for the game '{game_name}'\")\n",
    "else:\n",
    "    # Step 6: Apply sentiment classification to the filtered reviews\n",
    "    filtered_data['sentiment'] = filtered_data['cleaned_review_text'].apply(classify_sentiment)\n",
    "    \n",
    "    # Statistical analysis of the sentiment distribution\n",
    "\n",
    "    # Count the number of reviews in each sentiment category\n",
    "    sentiment_count = filtered_data['sentiment'].value_counts()\n",
    "\n",
    "    # Print the sentiment counts\n",
    "    print(f\"Sentiment counts for '{game_name}':\\n\", sentiment_count)\n",
    "\n",
    "    # Plot the sentiment distribution\n",
    "    plt.figure(figsize=(8, 6))\n",
    "    sns.barplot(x=sentiment_count.index, y=sentiment_count.values, palette='viridis')\n",
    "    plt.title(f'Sentiment Distribution of Reviews for {game_name}')\n",
    "    plt.xlabel('Sentiment')\n",
    "    plt.ylabel('Number of Reviews')\n",
    "    plt.show()"
   ]
  },
  {
   "cell_type": "code",
   "execution_count": 38,
   "id": "e4874341-3883-4012-ad5c-e93cbce95449",
   "metadata": {},
   "outputs": [
    {
     "data": {
      "text/plain": [
       "['tokenizer.pkl']"
      ]
     },
     "execution_count": 38,
     "metadata": {},
     "output_type": "execute_result"
    }
   ],
   "source": [
    "import joblib\n",
    "\n",
    "# Save the model and tokenizer\n",
    "joblib.dump(model, 'sentiment_model.pkl')\n",
    "joblib.dump(tokenizer, 'tokenizer.pkl')"
   ]
  },
  {
   "cell_type": "code",
   "execution_count": null,
   "id": "780b2a0c-9c55-4f19-a738-e1a3e9867dab",
   "metadata": {},
   "outputs": [],
   "source": []
  }
 ],
 "metadata": {
  "kernelspec": {
   "display_name": "Python 3 (ipykernel)",
   "language": "python",
   "name": "python3"
  },
  "language_info": {
   "codemirror_mode": {
    "name": "ipython",
    "version": 3
   },
   "file_extension": ".py",
   "mimetype": "text/x-python",
   "name": "python",
   "nbconvert_exporter": "python",
   "pygments_lexer": "ipython3",
   "version": "3.12.4"
  }
 },
 "nbformat": 4,
 "nbformat_minor": 5
}
